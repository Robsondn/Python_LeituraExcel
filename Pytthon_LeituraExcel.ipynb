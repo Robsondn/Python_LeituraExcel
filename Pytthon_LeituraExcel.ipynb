{
 "cells": [
  {
   "cell_type": "markdown",
   "id": "246d612e-a6d3-4dc5-96d6-4ee0b83685e1",
   "metadata": {},
   "source": [
    "# Lendo Excel"
   ]
  },
  {
   "cell_type": "markdown",
   "id": "c20763b6-445e-4093-aea8-e1c87f14981c",
   "metadata": {},
   "source": [
    "# Brasileirão"
   ]
  },
  {
   "cell_type": "markdown",
   "id": "7857e3fb-8596-4565-8194-c2c64e65ccf1",
   "metadata": {},
   "source": [
    "- https://github.com/adaoduque/Brasileirao_Dataset\n",
    "- https://github.com/adaoduque/Brasileirao_Dataset/raw/master/campeonato-brasileiro-full.xlsx\n",
    "- https://raw.githubusercontent.com/adaoduque/Brasileirao_Dataset/master/campeonato-brasileiro-estatisticas-full.csv"
   ]
  },
  {
   "cell_type": "code",
   "execution_count": 2,
   "id": "46014f32-1173-4daf-b246-263affb21d0d",
   "metadata": {},
   "outputs": [],
   "source": [
    "import pandas as pd"
   ]
  },
  {
   "cell_type": "code",
   "execution_count": 3,
   "id": "bd3d202f-dba4-460e-a37b-d47d3c3c8c9a",
   "metadata": {},
   "outputs": [],
   "source": [
    "brasileirao = pd.read_excel('https://github.com/LucasSerra/EBAC-parte-1/raw/main/mod-4/input/campeonato-brasileiro-full.xlsx')"
   ]
  },
  {
   "cell_type": "code",
   "execution_count": 4,
   "id": "9f932301-8dba-42db-813c-328f2fcd2359",
   "metadata": {},
   "outputs": [
    {
     "data": {
      "text/html": [
       "<div>\n",
       "<style scoped>\n",
       "    .dataframe tbody tr th:only-of-type {\n",
       "        vertical-align: middle;\n",
       "    }\n",
       "\n",
       "    .dataframe tbody tr th {\n",
       "        vertical-align: top;\n",
       "    }\n",
       "\n",
       "    .dataframe thead th {\n",
       "        text-align: right;\n",
       "    }\n",
       "</style>\n",
       "<table border=\"1\" class=\"dataframe\">\n",
       "  <thead>\n",
       "    <tr style=\"text-align: right;\">\n",
       "      <th></th>\n",
       "      <th>Rodada</th>\n",
       "      <th>Data</th>\n",
       "      <th>Horário</th>\n",
       "      <th>Dia</th>\n",
       "      <th>Mandante</th>\n",
       "      <th>Visitante</th>\n",
       "      <th>Vencedor</th>\n",
       "      <th>Arena</th>\n",
       "      <th>Mandante Placar</th>\n",
       "      <th>Visitante Placar</th>\n",
       "      <th>Estado Mandante</th>\n",
       "      <th>Estado Visitante</th>\n",
       "      <th>Estado Vencedor</th>\n",
       "    </tr>\n",
       "  </thead>\n",
       "  <tbody>\n",
       "    <tr>\n",
       "      <th>0</th>\n",
       "      <td>1</td>\n",
       "      <td>2000-07-29</td>\n",
       "      <td>16h00</td>\n",
       "      <td>Sábado</td>\n",
       "      <td>Fluminense</td>\n",
       "      <td>Bahia</td>\n",
       "      <td>Fluminense</td>\n",
       "      <td>Maracanã</td>\n",
       "      <td>2</td>\n",
       "      <td>0</td>\n",
       "      <td>RJ</td>\n",
       "      <td>BA</td>\n",
       "      <td>RJ</td>\n",
       "    </tr>\n",
       "    <tr>\n",
       "      <th>1</th>\n",
       "      <td>1</td>\n",
       "      <td>2000-07-29</td>\n",
       "      <td>16h00</td>\n",
       "      <td>Sábado</td>\n",
       "      <td>Vasco</td>\n",
       "      <td>Sport</td>\n",
       "      <td>Sport</td>\n",
       "      <td>São Januário</td>\n",
       "      <td>0</td>\n",
       "      <td>2</td>\n",
       "      <td>RJ</td>\n",
       "      <td>PE</td>\n",
       "      <td>PE</td>\n",
       "    </tr>\n",
       "    <tr>\n",
       "      <th>2</th>\n",
       "      <td>1</td>\n",
       "      <td>2000-07-29</td>\n",
       "      <td>16h00</td>\n",
       "      <td>Sábado</td>\n",
       "      <td>Vitória</td>\n",
       "      <td>Palmeiras</td>\n",
       "      <td>Vitória</td>\n",
       "      <td>Barradão</td>\n",
       "      <td>4</td>\n",
       "      <td>1</td>\n",
       "      <td>ES</td>\n",
       "      <td>SP</td>\n",
       "      <td>ES</td>\n",
       "    </tr>\n",
       "    <tr>\n",
       "      <th>3</th>\n",
       "      <td>1</td>\n",
       "      <td>2000-07-30</td>\n",
       "      <td>17h00</td>\n",
       "      <td>Domingo</td>\n",
       "      <td>Botafogo-RJ</td>\n",
       "      <td>Atlético-MG</td>\n",
       "      <td>-</td>\n",
       "      <td>Caio Martins</td>\n",
       "      <td>0</td>\n",
       "      <td>0</td>\n",
       "      <td>RJ</td>\n",
       "      <td>MG</td>\n",
       "      <td>-</td>\n",
       "    </tr>\n",
       "    <tr>\n",
       "      <th>4</th>\n",
       "      <td>1</td>\n",
       "      <td>2000-07-30</td>\n",
       "      <td>18h30</td>\n",
       "      <td>Domingo</td>\n",
       "      <td>Juventude</td>\n",
       "      <td>Flamengo</td>\n",
       "      <td>-</td>\n",
       "      <td>Alfredo Jaconi</td>\n",
       "      <td>1</td>\n",
       "      <td>1</td>\n",
       "      <td>RS</td>\n",
       "      <td>RJ</td>\n",
       "      <td>-</td>\n",
       "    </tr>\n",
       "  </tbody>\n",
       "</table>\n",
       "</div>"
      ],
      "text/plain": [
       "  Rodada       Data Horário      Dia     Mandante    Visitante    Vencedor  \\\n",
       "0      1 2000-07-29   16h00   Sábado   Fluminense        Bahia  Fluminense   \n",
       "1      1 2000-07-29   16h00   Sábado        Vasco        Sport       Sport   \n",
       "2      1 2000-07-29   16h00   Sábado      Vitória    Palmeiras     Vitória   \n",
       "3      1 2000-07-30   17h00  Domingo  Botafogo-RJ  Atlético-MG           -   \n",
       "4      1 2000-07-30   18h30  Domingo    Juventude     Flamengo           -   \n",
       "\n",
       "            Arena  Mandante Placar  Visitante Placar Estado Mandante  \\\n",
       "0        Maracanã                2                 0              RJ   \n",
       "1    São Januário                0                 2              RJ   \n",
       "2        Barradão                4                 1              ES   \n",
       "3    Caio Martins                0                 0              RJ   \n",
       "4  Alfredo Jaconi                1                 1              RS   \n",
       "\n",
       "  Estado Visitante Estado Vencedor  \n",
       "0               BA              RJ  \n",
       "1               PE              PE  \n",
       "2               SP              ES  \n",
       "3               MG               -  \n",
       "4               RJ               -  "
      ]
     },
     "execution_count": 4,
     "metadata": {},
     "output_type": "execute_result"
    }
   ],
   "source": [
    "brasileirao.head()"
   ]
  },
  {
   "cell_type": "code",
   "execution_count": 5,
   "id": "fc3feb3d-00dd-4a69-87ab-aae7eb3fb370",
   "metadata": {},
   "outputs": [
    {
     "data": {
      "text/plain": [
       "Rodada                      object\n",
       "Data                datetime64[ns]\n",
       "Horário                     object\n",
       "Dia                         object\n",
       "Mandante                    object\n",
       "Visitante                   object\n",
       "Vencedor                    object\n",
       "Arena                       object\n",
       "Mandante Placar              int64\n",
       "Visitante Placar             int64\n",
       "Estado Mandante             object\n",
       "Estado Visitante            object\n",
       "Estado Vencedor             object\n",
       "dtype: object"
      ]
     },
     "execution_count": 5,
     "metadata": {},
     "output_type": "execute_result"
    }
   ],
   "source": [
    "brasileirao.dtypes"
   ]
  },
  {
   "cell_type": "markdown",
   "id": "8e085497-9a12-42bb-befd-cbbaae27a226",
   "metadata": {},
   "source": [
    "# Qual o maior vencedor de jogos?"
   ]
  },
  {
   "cell_type": "code",
   "execution_count": 6,
   "id": "f5fc07b3-dae9-41e9-ba91-85fa3fa15e11",
   "metadata": {},
   "outputs": [
    {
     "data": {
      "text/plain": [
       "Vencedor\n",
       "-                  2148\n",
       "São Paulo           366\n",
       "Santos              333\n",
       "Grêmio              322\n",
       "Internacional       322\n",
       "Cruzeiro            322\n",
       "Flamengo            319\n",
       "Corinthians         306\n",
       "Athlético-PR        306\n",
       "Fluminense          306\n",
       "Atlético-MG         302\n",
       "Palmeiras           294\n",
       "Vasco               226\n",
       "Goiás               223\n",
       "Botafogo-RJ         210\n",
       "Coritiba            194\n",
       "Vitória             152\n",
       "Figueirense         151\n",
       "Ponte Preta         149\n",
       "Sport               139\n",
       "Bahia               135\n",
       "Paraná              104\n",
       "São Caetano         103\n",
       "Juventude            96\n",
       "Chapecoense          69\n",
       "Guarani              63\n",
       "Fortaleza            61\n",
       "Portuguesa           57\n",
       "Avaí                 57\n",
       "Ceará                54\n",
       "Náutico              54\n",
       "Atlético-GO          51\n",
       "Criciúma             50\n",
       "Paysandu             50\n",
       "América-MG           38\n",
       "Botafogo-rj          26\n",
       "Santa Cruz           25\n",
       "Gama                 21\n",
       "Bragantino           13\n",
       "Barueri              12\n",
       "Santo André          11\n",
       "Brasiliense          10\n",
       "Ipatinga              9\n",
       "CSA                   8\n",
       "Grêmio Prudente       7\n",
       "Joinville             7\n",
       "SANTOS                6\n",
       "Botafogo-SP           6\n",
       "CRUZEIRO              4\n",
       "VASCO                 4\n",
       "FLUMINENSE            4\n",
       "América-RN            4\n",
       "CORINTHIANS           3\n",
       "SPORT                 2\n",
       "FLAMENGO              1\n",
       "PONTE PRETA           1\n",
       "INTERNACIONAL         1\n",
       "PALMEIRAS             1\n",
       "portuguesa            1\n",
       "Name: count, dtype: int64"
      ]
     },
     "execution_count": 6,
     "metadata": {},
     "output_type": "execute_result"
    }
   ],
   "source": [
    "brasileirao.Vencedor.value_counts()"
   ]
  },
  {
   "cell_type": "markdown",
   "id": "0e1e302a-ab92-4cb1-819d-e66ca3a73975",
   "metadata": {},
   "source": [
    "# Qual a tabelas de jogos vencidos por clube na temporada de 2020?\n",
    "\n",
    "(periodo temp = '2020-01-01' a '2021-02-26')"
   ]
  },
  {
   "cell_type": "code",
   "execution_count": 7,
   "id": "95ab56fa-17ec-4d97-9888-47d53194c532",
   "metadata": {},
   "outputs": [
    {
     "data": {
      "text/plain": [
       "0       False\n",
       "1       False\n",
       "2       False\n",
       "3       False\n",
       "4       False\n",
       "        ...  \n",
       "8314     True\n",
       "8315     True\n",
       "8316     True\n",
       "8317     True\n",
       "8318     True\n",
       "Name: Data, Length: 8319, dtype: bool"
      ]
     },
     "execution_count": 7,
     "metadata": {},
     "output_type": "execute_result"
    }
   ],
   "source": [
    "cond = (brasileirao['Data'] >= '2020-01-01')& (brasileirao['Data'] <= '2021-02-26')\n",
    "cond"
   ]
  },
  {
   "cell_type": "code",
   "execution_count": 8,
   "id": "85a7c070-2b24-4cb1-8ca3-3a283b34e805",
   "metadata": {},
   "outputs": [
    {
     "data": {
      "text/plain": [
       "Vencedor\n",
       "-                108\n",
       "Flamengo          21\n",
       "Atlético-MG       20\n",
       "Internacional     20\n",
       "São Paulo         18\n",
       "Fluminense        18\n",
       "Palmeiras         15\n",
       "Athlético-PR      15\n",
       "Grêmio            14\n",
       "Santos            14\n",
       "Ceará             14\n",
       "Bragantino        13\n",
       "Corinthians       13\n",
       "Atlético-GO       12\n",
       "Bahia             12\n",
       "Sport             12\n",
       "Vasco             10\n",
       "Fortaleza         10\n",
       "Goiás              9\n",
       "Coritiba           7\n",
       "Botafogo-RJ        5\n",
       "Name: count, dtype: int64"
      ]
     },
     "execution_count": 8,
     "metadata": {},
     "output_type": "execute_result"
    }
   ],
   "source": [
    "brasileirao[cond]['Vencedor'].value_counts()"
   ]
  },
  {
   "cell_type": "markdown",
   "id": "47033683-e1ab-4e29-b6c6-24e8faea4627",
   "metadata": {},
   "source": [
    "# Qual a quantidade de partidas realizadas em cada estádio?"
   ]
  },
  {
   "cell_type": "code",
   "execution_count": 9,
   "id": "e62020bd-7a84-43af-bac1-b4de210edadb",
   "metadata": {},
   "outputs": [
    {
     "data": {
      "text/plain": [
       "Arena\n",
       "Maracanã             626\n",
       "Mineirão             466\n",
       "Morumbi              407\n",
       "Beira Rio            352\n",
       "Vila Belmiro         340\n",
       "                    ... \n",
       "Romildo Ferreira       1\n",
       "Vivaldo Lima           1\n",
       "Pedro Pedrossian       1\n",
       "Antônio Guimarães      1\n",
       "Plácido Castelo        1\n",
       "Name: count, Length: 114, dtype: int64"
      ]
     },
     "execution_count": 9,
     "metadata": {},
     "output_type": "execute_result"
    }
   ],
   "source": [
    "brasileirao.Arena.value_counts()"
   ]
  },
  {
   "cell_type": "code",
   "execution_count": null,
   "id": "b8ee638a-ad0d-4159-a0b9-54baea7d7881",
   "metadata": {},
   "outputs": [],
   "source": []
  }
 ],
 "metadata": {
  "kernelspec": {
   "display_name": "Python 3 (ipykernel)",
   "language": "python",
   "name": "python3"
  },
  "language_info": {
   "codemirror_mode": {
    "name": "ipython",
    "version": 3
   },
   "file_extension": ".py",
   "mimetype": "text/x-python",
   "name": "python",
   "nbconvert_exporter": "python",
   "pygments_lexer": "ipython3",
   "version": "3.12.4"
  }
 },
 "nbformat": 4,
 "nbformat_minor": 5
}
